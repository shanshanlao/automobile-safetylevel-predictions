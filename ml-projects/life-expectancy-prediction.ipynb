{
 "cells": [
  {
   "attachments": {},
   "cell_type": "markdown",
   "metadata": {},
   "source": [
    "Objective: Create a Regression Model to predict the life expectancy and understand which factors are affecting life expectancy"
   ]
  },
  {
   "attachments": {},
   "cell_type": "markdown",
   "metadata": {},
   "source": [
    "# 0) Dependencise"
   ]
  },
  {
   "cell_type": "code",
   "execution_count": 564,
   "metadata": {},
   "outputs": [],
   "source": [
    "import sys\n",
    "from pathlib import Path\n",
    "\n",
    "# data processing libraries\n",
    "import pandas as pd\n",
    "import numpy as np\n",
    "import datetime\n",
    "import re\n",
    "\n",
    "# modeling \n",
    "import sklearn\n",
    "from sklearn.preprocessing import StandardScaler, MinMaxScaler\n",
    "from sklearn.model_selection import train_test_split\n",
    "\n",
    "# here put thoses algorithms\n",
    "from sklearn.linear_model import LinearRegression\n",
    "\n",
    "\n",
    "# metrics \n",
    "from scipy.optimize import least_squares\n",
    "from sklearn.metrics import mean_absolute_error\n",
    "\n",
    "from statsmodels.stats.outliers_influence import variance_inflation_factor\n",
    "from statsmodels.tools.tools import add_constant\n",
    "import statsmodels.api as sm\n",
    "\n",
    "\n",
    "# Visualization\n",
    "import seaborn as sns\n",
    "import matplotlib.pyplot as plt\n",
    "%matplotlib inline\n",
    "plt.rcParams['figure.figsize'] = [10, 5] #change size of plot\n",
    "import plotly.express as px"
   ]
  },
  {
   "attachments": {},
   "cell_type": "markdown",
   "metadata": {},
   "source": [
    "# 1) Data Acquistion\n",
    "\n",
    "A quick look at:\n",
    "1. Data Structure / Data Info\n",
    "2. Categorical Variables\n",
    "3. Numerical Variables\n",
    "\n",
    "Data Dictionary:\n",
    "- country: the country in which the indicators are from (i.e. United States of America or Congo)\n",
    "- year: the calendar year the indicators are from (ranging from 2000 to 2015)\n",
    "- status: whether a country is considered to be 'Developing' or 'Developed' by WHO standards\n",
    "- life_expectancy: the life expectancy of people in years for a particular country and year\n",
    "\n",
    "- adult_mortality (Ratio) - the adult mortality rate per 1000 population \n",
    "- infant_deaths (Ratio) - number of infant deaths per 1000 population; similar to above, but for infants\n",
    "- alcohol (Ratio) - a country's alcohol consumption rate measured as liters of pure alcohol consumption per capita\n",
    "\n",
    "- percentage_expenditure (Ratio) - expenditure on health as a percentage of Gross Domestic Product (gdp)\n",
    "- hepatitis_b (Ratio): number of 1 year olds with Hepatitis B immunization over all 1 year olds in population\n",
    "- measles (Number): number of reported Measles cases\n",
    "- BMI: average Body Mass Index (BMI) of a country's total population\n",
    "\n",
    "- under-five_deaths (Ratio) - number of people under the age of five deaths per 1000 population\n",
    "- polio (Ratio) - number of 1 year olds with Polio immunization over the number of all 1 year olds in population\n",
    "- total_expenditure (Ratio) - government expenditure on health as a percentage of total government expenditure\n",
    "- diphtheria (Ratio) - Diphtheria tetanus toxoid and pertussis (DTP3) immunization rate of 1 year olds\n",
    "- hiv/aids (Ratio) - deaths per 1000 live births caused by HIV/AIDS for people under 5; number of people under 5 who die due to HIV/AIDS per 1000 births\n",
    "\n",
    "- gdp: Gross Domestic Product per capita ($USD)\n",
    "- population: population of a country\n",
    "\n",
    "- thinness_1-19_years (Ratio) - rate of thinness among people aged 10-19 \n",
    "- thinness_5-9_years (Ratio) - rate of thinness among people aged 5-9\n",
    "- income_composition_of_resources (Ratio) - Human Development Index in terms of income composition of resources (index ranging from 0 to 1)\n",
    "\n",
    "- schooling (Number) - average number of years of schooling of a population"
   ]
  },
  {
   "cell_type": "code",
   "execution_count": 565,
   "metadata": {},
   "outputs": [],
   "source": [
    "life_expectancy_data = pd.read_csv(\"Life Expectancy Data.csv\")"
   ]
  },
  {
   "attachments": {},
   "cell_type": "markdown",
   "metadata": {},
   "source": [
    "## 1.1) A quick look at the data"
   ]
  },
  {
   "cell_type": "code",
   "execution_count": null,
   "metadata": {},
   "outputs": [],
   "source": [
    "life_expectancy_data.shape"
   ]
  },
  {
   "cell_type": "code",
   "execution_count": null,
   "metadata": {},
   "outputs": [],
   "source": [
    "life_expectancy_data.head()"
   ]
  },
  {
   "cell_type": "code",
   "execution_count": null,
   "metadata": {},
   "outputs": [],
   "source": [
    "life_expectancy_data.columns"
   ]
  },
  {
   "cell_type": "code",
   "execution_count": 566,
   "metadata": {},
   "outputs": [
    {
     "data": {
      "text/plain": [
       "Index(['Country', 'Year', 'Status', 'Life Expectancy', 'Adult Mortality',\n",
       "       'Infant Deaths', 'Alcohol', 'Percentage Expenditure', 'Hepatitis B',\n",
       "       'Measles', 'BMI', 'Under-Five Deaths', 'Polio', 'Total Expenditure',\n",
       "       'Diphtheria', 'HIV/AIDS', 'GDP', 'Population', 'Thinness 10-19 Years',\n",
       "       'Thinness 5-9 Years', 'Income Composition Of Resources', 'Schooling'],\n",
       "      dtype='object')"
      ]
     },
     "execution_count": 566,
     "metadata": {},
     "output_type": "execute_result"
    }
   ],
   "source": [
    "# Trim the spaces in the column names\n",
    "trimed_col = []\n",
    "for col in life_expectancy_data.columns:\n",
    "    trimed_name = col.strip()\n",
    "    trimed_name = trimed_name.replace(\"  \",\" \")\n",
    "\n",
    "    if trimed_name not in ['BMI', 'HIV/AIDS','GDP']:\n",
    "        trimed_col.append(trimed_name.title())\n",
    "    else:\n",
    "        trimed_col.append(trimed_name)\n",
    "    \n",
    "life_expectancy_data.columns = trimed_col\n",
    "\n",
    "# Note that according to the data dictionary, the first column of thinness represent\n",
    "# Rate of thinness among people aged 10-19. Hence we should rename the column from '1-19' to '10-19'.\n",
    "life_expectancy_data.rename(columns = {'Thinness 1-19 Years':'Thinness 10-19 Years'},inplace = True)\n",
    "life_expectancy_data.columns"
   ]
  },
  {
   "cell_type": "code",
   "execution_count": null,
   "metadata": {},
   "outputs": [],
   "source": [
    "life_expectancy_data.describe()"
   ]
  },
  {
   "cell_type": "code",
   "execution_count": null,
   "metadata": {},
   "outputs": [],
   "source": [
    "life_expectancy_data.isnull().sum()"
   ]
  },
  {
   "cell_type": "code",
   "execution_count": 569,
   "metadata": {},
   "outputs": [],
   "source": [
    "IMAGES_PATH = Path() / \"images\" \n",
    "IMAGES_PATH.mkdir(parents=True, exist_ok=True)\n",
    "\n",
    "def save_fig(fig_id, tight_layout=True, fig_extension=\"png\", resolution=300):\n",
    "    path = IMAGES_PATH / f\"{fig_id}.{fig_extension}\"\n",
    "    if tight_layout:\n",
    "        plt.tight_layout()\n",
    "    plt.savefig(path, format=fig_extension, dpi=resolution)"
   ]
  },
  {
   "cell_type": "code",
   "execution_count": 570,
   "metadata": {},
   "outputs": [
    {
     "data": {
      "image/png": "[encoded data removed]",
      "text/plain": [
       "<Figure size 1200x800 with 20 Axes>"
      ]
     },
     "metadata": {},
     "output_type": "display_data"
    }
   ],
   "source": [
    "plt.rc('font', size=14)\n",
    "plt.rc('axes', labelsize=14, titlesize=14)\n",
    "plt.rc('legend', fontsize=14)\n",
    "plt.rc('xtick', labelsize=10)\n",
    "plt.rc('ytick', labelsize=10)\n",
    "\n",
    "life_expectancy_data.hist(bins=50, figsize=(12, 8))\n",
    "save_fig(\"attribute_histogram_plots\")  \n",
    "plt.show()"
   ]
  },
  {
   "attachments": {},
   "cell_type": "markdown",
   "metadata": {},
   "source": [
    "## 1.2) Pandas Profiling\n",
    "\n",
    "Pandas Profiling generates a global deatiled report about the dataset, including the number of records, the number of features, overall missingness and duplicates. It also includes descriptive statistics for each individual variables and correlation statistics between the variables. Refer to 'original_dataset.html' to see the report."
   ]
  },
  {
   "cell_type": "code",
   "execution_count": null,
   "metadata": {},
   "outputs": [],
   "source": [
    "import pandas_profiling\n",
    "\n",
    "profile = life_expectancy_data.profile_report(title='Pandas Profiling Report')\n",
    "profile.to_file(\"original_dataset.html\")"
   ]
  },
  {
   "attachments": {},
   "cell_type": "markdown",
   "metadata": {},
   "source": [
    "## 1.2) Data Correction\n",
    "\n",
    "Looking at the above data distribution, we can immediately tell that some values are off.\n",
    "\n",
    "- **Percentage Expenditure** as the current health percentage of GDP should be a percentage, it cannot go over the range of [0,100]. While in this dataset it has a range from [0,19479] and a mean of 738, this data should be wrong.\n",
    "- **BMI** as a obesity indicateor usually range from [17,30], again this data is completely off.\n",
    "- The overall distribution of **GDP** and **Population** seems valid, but they have many small values that do not make sense (for example, some countries have population < 50), and they have over 30% of the missing value.\n",
    "\n",
    "The good news is all these common information can easily be found online. To improve the data quality, I replaced these features with actual dataset retrieved from WHO, OurWorldInData, and DataWorldBank.\n"
   ]
  },
  {
   "cell_type": "code",
   "execution_count": 571,
   "metadata": {},
   "outputs": [],
   "source": [
    "df = life_expectancy_data.copy()"
   ]
  },
  {
   "cell_type": "code",
   "execution_count": 572,
   "metadata": {},
   "outputs": [
    {
     "data": {
      "text/plain": [
       "Country                              0\n",
       "Year                                 0\n",
       "Status                               0\n",
       "Life Expectancy                     10\n",
       "Adult Mortality                     10\n",
       "Infant Deaths                        0\n",
       "Alcohol                            194\n",
       "Percentage Expenditure               0\n",
       "Hepatitis B                        553\n",
       "Measles                              0\n",
       "BMI                                 34\n",
       "Under-Five Deaths                    0\n",
       "Polio                               19\n",
       "Total Expenditure                  226\n",
       "Diphtheria                          19\n",
       "HIV/AIDS                             0\n",
       "GDP                                448\n",
       "Thinness 10-19 Years                34\n",
       "Thinness 5-9 Years                  34\n",
       "Income Composition Of Resources    167\n",
       "Schooling                          163\n",
       "Population                         419\n",
       "dtype: int64"
      ]
     },
     "execution_count": 572,
     "metadata": {},
     "output_type": "execute_result"
    }
   ],
   "source": [
    "pop = pd.read_csv(\"Population-DataWorldBank.csv\")\n",
    "\n",
    "df = pd.merge(df, pop, how='left', on = ['Country', 'Year'])\n",
    "df = df.drop(columns = 'Population')\n",
    "df = df.rename(columns={'Value':'Population'})\n",
    "\n",
    "df.isnull().sum()"
   ]
  },
  {
   "attachments": {},
   "cell_type": "markdown",
   "metadata": {},
   "source": [
    "The number of null value did not change, it is possible that the country names are different in the dataset."
   ]
  },
  {
   "cell_type": "code",
   "execution_count": 573,
   "metadata": {},
   "outputs": [
    {
     "data": {
      "text/plain": [
       "array(['Bahamas', 'Micronesia (Federated States of)', 'Saint Lucia',\n",
       "       'Saint Vincent and the Grenadines', 'Slovakia',\n",
       "       'The former Yugoslav republic of Macedonia',\n",
       "       'Bolivia (Plurinational State of)', \"Côte d'Ivoire\", 'Congo',\n",
       "       \"Democratic People's Republic of Korea\",\n",
       "       'Democratic Republic of the Congo', 'Egypt', 'Gambia',\n",
       "       'Iran (Islamic Republic of)', 'Kyrgyzstan',\n",
       "       \"Lao People's Democratic Republic\", 'Republic of Korea',\n",
       "       'Republic of Moldova', 'Cook Islands', 'Niue',\n",
       "       'Saint Kitts and Nevis', 'Swaziland', 'Turkey',\n",
       "       'United Kingdom of Great Britain and Northern Ireland',\n",
       "       'United Republic of Tanzania', 'United States of America',\n",
       "       'Venezuela (Bolivarian Republic of)', 'Viet Nam', 'Yemen'],\n",
       "      dtype=object)"
      ]
     },
     "execution_count": 573,
     "metadata": {},
     "output_type": "execute_result"
    }
   ],
   "source": [
    "df['Country'][df['Population'].isnull()].unique()"
   ]
  },
  {
   "attachments": {},
   "cell_type": "markdown",
   "metadata": {},
   "source": [
    "Use country_converter to unify the country name."
   ]
  },
  {
   "cell_type": "code",
   "execution_count": 574,
   "metadata": {},
   "outputs": [
    {
     "data": {
      "text/plain": [
       "array(['Algeria', 'Angola', 'Argentina', 'Armenia', 'Australia',\n",
       "       'Azerbaijan', 'Bahamas', 'Czech Republic', 'Micronesia, Fed. Sts.',\n",
       "       'St. Lucia', 'St. Vincent and the Grenadines',\n",
       "       'Sao Tome and Principe', 'Slovakia', 'North Macedonia',\n",
       "       'Bangladesh', 'Benin', 'Bolivia', 'Botswana', 'Brazil',\n",
       "       'Burkina Faso', 'Burundi', \"Cote d'Ivoire\", 'Cambodia', 'Cameroon',\n",
       "       'Canada', 'Central African Republic', 'Chad', 'Chile', 'China',\n",
       "       'Colombia', 'Comoros', 'Congo Republic', 'Costa Rica', 'Cuba',\n",
       "       'North Korea', 'DR Congo', 'Djibouti', 'Dominican Republic',\n",
       "       'Ecuador', 'Egypt', 'El Salvador', 'Equatorial Guinea', 'Eritrea',\n",
       "       'Ethiopia', 'France', 'Gabon', 'Gambia', 'Georgia', 'Germany',\n",
       "       'Ghana', 'Guatemala', 'Guinea', 'Guinea-Bissau', 'Haiti',\n",
       "       'Honduras', 'India', 'Indonesia', 'Iran', 'Iraq', 'Italy',\n",
       "       'Jamaica', 'Japan', 'Jordan', 'Kazakhstan', 'Kenya',\n",
       "       'Kyrgyz Republic', 'Laos', 'Lebanon', 'Lesotho', 'Liberia',\n",
       "       'Libya', 'Madagascar', 'Malawi', 'Malaysia', 'Mali', 'Mauritania',\n",
       "       'Mexico', 'Mongolia', 'Morocco', 'Mozambique', 'Myanmar',\n",
       "       'Namibia', 'Nepal', 'Netherlands', 'Nicaragua', 'Niger', 'Nigeria',\n",
       "       'Oman', 'Pakistan', 'Panama', 'Papua New Guinea', 'Paraguay',\n",
       "       'Peru', 'Philippines', 'Poland', 'South Korea', 'Moldova',\n",
       "       'Romania', 'Russia', 'Rwanda', 'Saudi Arabia', 'Senegal', 'Serbia',\n",
       "       'Sierra Leone', 'Cook Islands', 'Monaco', 'Niue',\n",
       "       'St. Kitts and Nevis', 'Somalia', 'South Africa', 'South Sudan',\n",
       "       'Spain', 'Sri Lanka', 'Sudan', 'San Marino', 'Eswatini', 'Syria',\n",
       "       'Tajikistan', 'Thailand', 'Greece', 'Vanuatu', 'Tonga',\n",
       "       'Timor-Leste', 'Togo', 'Luxembourg', 'Kiribati', 'Seychelles',\n",
       "       'Estonia', 'Solomon Islands', 'Portugal', 'Cyprus', 'Bhutan',\n",
       "       'Slovenia', 'Cabo Verde', 'New Zealand', 'Brunei Darussalam',\n",
       "       'Guyana', 'Samoa', 'Finland', 'Belgium', 'Bosnia and Herzegovina',\n",
       "       'Belize', 'Fiji', 'Denmark', 'Sweden', 'Iceland', 'Belarus',\n",
       "       'Montenegro', 'Ireland', 'Bulgaria', 'Norway', 'Maldives',\n",
       "       'Suriname', 'Switzerland', 'Tunisia', 'Türkiye', 'Turkmenistan',\n",
       "       'Grenada', 'Uganda', 'Ukraine', 'United Arab Emirates',\n",
       "       'United Kingdom', 'Tanzania', 'United States', 'Mauritius',\n",
       "       'Croatia', 'Hungary', 'Antigua and Barbuda', 'Latvia', 'Lithuania',\n",
       "       'Uruguay', 'Uzbekistan', 'Barbados', 'Trinidad and Tobago',\n",
       "       'Bahrain', 'Malta', 'Kuwait', 'Israel', 'Austria', 'Singapore',\n",
       "       'Qatar', 'Venezuela', 'Vietnam', 'Yemen', 'Zambia', 'Zimbabwe',\n",
       "       'Afghanistan', 'Albania', 'Dominica', 'Nauru', 'Tuvalu', 'Palau',\n",
       "       'Marshall Islands'], dtype=object)"
      ]
     },
     "execution_count": 574,
     "metadata": {},
     "output_type": "execute_result"
    }
   ],
   "source": [
    "import country_converter as coco\n",
    "\n",
    "df = life_expectancy_data.copy()\n",
    "df['Country'] = coco.convert(names = df['Country'], to='name_short')\n",
    "\n",
    "df['Country'].unique()"
   ]
  },
  {
   "cell_type": "code",
   "execution_count": null,
   "metadata": {},
   "outputs": [],
   "source": [
    "import country_converter as coco\n",
    "\n",
    "pop = pd.read_csv(\"Population-DataWorldBank.csv\")\n",
    "pop['Country'] = coco.convert(names = pop['Country'], to='name_short')\n",
    "\n",
    "df = pd.merge(df, pop, how='left', on = ['Country', 'Year'])\n",
    "df = df.drop(columns = 'Population')\n",
    "df = df.rename(columns={'Value':'Population'})"
   ]
  },
  {
   "cell_type": "code",
   "execution_count": 576,
   "metadata": {},
   "outputs": [
    {
     "data": {
      "text/plain": [
       "2"
      ]
     },
     "execution_count": 576,
     "metadata": {},
     "output_type": "execute_result"
    }
   ],
   "source": [
    "df['Population'].isnull().sum()"
   ]
  },
  {
   "attachments": {},
   "cell_type": "markdown",
   "metadata": {},
   "source": [
    "The number of null value significantly decrease! The assumption on the difference between country names was correct.\n",
    "\n",
    "Coundct the same steps for all the datasets."
   ]
  },
  {
   "cell_type": "code",
   "execution_count": null,
   "metadata": {},
   "outputs": [],
   "source": [
    "# GDP per capital\n",
    "gdp = pd.read_csv(\"GDP-DataWorldBank.csv\")\n",
    "gdp['Country'] = coco.convert(names = gdp['Country'], to='name_short')\n",
    "\n",
    "df = pd.merge(df, gdp, how='left', on = ['Country', 'Year'])\n",
    "df = df.drop(columns = 'GDP')\n",
    "df = df.rename(columns={'Value':'GDP'})"
   ]
  },
  {
   "cell_type": "code",
   "execution_count": 578,
   "metadata": {},
   "outputs": [
    {
     "data": {
      "text/plain": [
       "2"
      ]
     },
     "execution_count": 578,
     "metadata": {},
     "output_type": "execute_result"
    }
   ],
   "source": [
    "df['GDP'].isnull().sum()"
   ]
  },
  {
   "cell_type": "code",
   "execution_count": 579,
   "metadata": {},
   "outputs": [],
   "source": [
    "# Current Health Expenditure (% of GDP)\n",
    "che = pd.read_csv(\"CHE-WHO.csv\")\n",
    "che['Country'] = coco.convert(names = che['Country'], to='name_short')\n",
    "\n",
    "df = pd.merge(df, che, how='left',on = ['Country', 'Year'])\n",
    "\n",
    "df = df.drop(columns = {'Percentage Expenditure','Indicator','ParentLocation'})\n",
    "df = df.rename(columns={'Value':'Percentage Expenditure'})"
   ]
  },
  {
   "cell_type": "code",
   "execution_count": 580,
   "metadata": {},
   "outputs": [
    {
     "data": {
      "text/plain": [
       "84"
      ]
     },
     "execution_count": 580,
     "metadata": {},
     "output_type": "execute_result"
    }
   ],
   "source": [
    "df['Percentage Expenditure'].isnull().sum()"
   ]
  },
  {
   "attachments": {},
   "cell_type": "markdown",
   "metadata": {},
   "source": [
    "It seems like the number of null values increased. However, according to the panda profiiling report, there are over 20% of the values are zero, which means over 600 records were pure zero."
   ]
  },
  {
   "cell_type": "code",
   "execution_count": 581,
   "metadata": {},
   "outputs": [
    {
     "data": {
      "text/plain": [
       "array(['North Korea', 'Iraq', 'Libya', 'Somalia', 'South Sudan', 'Syria',\n",
       "       'Zimbabwe', 'Timor-Leste', 'Afghanistan', 'Montenegro'],\n",
       "      dtype=object)"
      ]
     },
     "execution_count": 581,
     "metadata": {},
     "output_type": "execute_result"
    }
   ],
   "source": [
    "df['Country'][df['Percentage Expenditure'].isnull()].unique()"
   ]
  },
  {
   "cell_type": "code",
   "execution_count": null,
   "metadata": {},
   "outputs": [],
   "source": [
    "# Body Mass Index\n",
    "bmi = pd.read_csv(\"BMI-OurWorldInData.csv\")\n",
    "bmi['Country'] = coco.convert(names = bmi['Country'], to='name_short')\n",
    "\n",
    "df = pd.merge(df, bmi, how=\"left\", on = ['Country', 'Year'])\n",
    "df = df.drop(columns = {'BMI','Mean BMI (female)','Mean BMI (male)'})\n",
    "df = df.rename(columns= {'Mean BMI':'BMI'})"
   ]
  },
  {
   "cell_type": "code",
   "execution_count": 583,
   "metadata": {},
   "outputs": [
    {
     "data": {
      "text/plain": [
       "34"
      ]
     },
     "execution_count": 583,
     "metadata": {},
     "output_type": "execute_result"
    }
   ],
   "source": [
    "df['BMI'].isnull().sum()"
   ]
  },
  {
   "attachments": {},
   "cell_type": "markdown",
   "metadata": {},
   "source": [
    "Likewise, I also found the dataset for those features that have a large number of null values or zeros:\n",
    "- Infant Deaths: 28.9% zeros        ~= 875 records\n",
    "- Under-Five Deaths: 26.7% Zeros    ~=784 records\n",
    "- Hepatitis B: 18.8% Missing Values ~=552 records\n",
    "- Measles: 33.5% zeros              ~=984 records"
   ]
  },
  {
   "cell_type": "code",
   "execution_count": null,
   "metadata": {},
   "outputs": [],
   "source": [
    "# Infant Deaths\n",
    "infant = pd.read_csv(\"InfantMortalityPer1000-DataWorldBank.csv\")\n",
    "infant['Country'] = coco.convert(names = infant['Country'], to='name_short')\n",
    "\n",
    "df = pd.merge(df, infant, how='left', on = ['Country', 'Year'])\n",
    "df = df.drop(columns = 'Infant Deaths')\n",
    "df = df.rename(columns={'Value':'Infant Deaths'})"
   ]
  },
  {
   "cell_type": "code",
   "execution_count": 585,
   "metadata": {},
   "outputs": [
    {
     "data": {
      "text/plain": [
       "2"
      ]
     },
     "execution_count": 585,
     "metadata": {},
     "output_type": "execute_result"
    }
   ],
   "source": [
    "df['Infant Deaths'].isnull().sum()"
   ]
  },
  {
   "cell_type": "code",
   "execution_count": null,
   "metadata": {},
   "outputs": [],
   "source": [
    "# Deaths Under 5\n",
    "child = pd.read_csv(\"InfantMortalityPer1000-DataWorldBank.csv\")\n",
    "child['Country'] = coco.convert(names = child['Country'], to='name_short')\n",
    "\n",
    "df = pd.merge(df, child, how='left', on = ['Country', 'Year'])\n",
    "df = df.drop(columns = 'Under-Five Deaths')\n",
    "df = df.rename(columns={'Value':'Under-Five Deaths'})"
   ]
  },
  {
   "cell_type": "code",
   "execution_count": 587,
   "metadata": {},
   "outputs": [
    {
     "data": {
      "text/plain": [
       "2"
      ]
     },
     "execution_count": 587,
     "metadata": {},
     "output_type": "execute_result"
    }
   ],
   "source": [
    "df['Under-Five Deaths'].isnull().sum()"
   ]
  },
  {
   "cell_type": "code",
   "execution_count": null,
   "metadata": {},
   "outputs": [],
   "source": [
    "# Hep B\n",
    "hepb = pd.read_csv(\"HepB-IMU-DataWorld.csv\")\n",
    "hepb['Country'] = coco.convert(names = hepb['Country'], to='name_short')\n",
    "\n",
    "df = pd.merge(df, hepb, how='left', on = ['Country', 'Year'])\n",
    "df = df.drop(columns = 'Hepatitis B')\n",
    "df = df.rename(columns={'Value':'Hepatitis B'})"
   ]
  },
  {
   "cell_type": "code",
   "execution_count": 589,
   "metadata": {},
   "outputs": [
    {
     "data": {
      "text/plain": [
       "562"
      ]
     },
     "execution_count": 589,
     "metadata": {},
     "output_type": "execute_result"
    }
   ],
   "source": [
    "df['Hepatitis B'].isnull().sum()"
   ]
  },
  {
   "attachments": {},
   "cell_type": "markdown",
   "metadata": {},
   "source": [
    "It turns out that we do have a lot of missing information regarding Hepatitis B Immutization rate across countries."
   ]
  },
  {
   "cell_type": "code",
   "execution_count": 590,
   "metadata": {},
   "outputs": [],
   "source": [
    "# Measles\n",
    "measles = pd.read_csv(\"Measles-OurWorldInData.csv\")\n",
    "measles['Country'] = coco.convert(names = measles['Country'], to='name_short')\n",
    "\n",
    "df = pd.merge(df, measles, how='left', on = ['Country', 'Year'])\n",
    "df = df.drop(columns = 'Measles')\n",
    "df = df.rename(columns={'Value':'Measles'})"
   ]
  },
  {
   "cell_type": "code",
   "execution_count": 591,
   "metadata": {},
   "outputs": [
    {
     "data": {
      "text/plain": [
       "162"
      ]
     },
     "execution_count": 591,
     "metadata": {},
     "output_type": "execute_result"
    }
   ],
   "source": [
    "df['Measles'].isnull().sum()"
   ]
  },
  {
   "cell_type": "code",
   "execution_count": 592,
   "metadata": {},
   "outputs": [
    {
     "data": {
      "text/plain": [
       "Country                              0\n",
       "Year                                 0\n",
       "Status                               0\n",
       "Life Expectancy                     10\n",
       "Adult Mortality                     10\n",
       "Alcohol                            194\n",
       "Polio                               19\n",
       "Total Expenditure                  226\n",
       "Diphtheria                          19\n",
       "HIV/AIDS                             0\n",
       "Thinness 10-19 Years                34\n",
       "Thinness 5-9 Years                  34\n",
       "Income Composition Of Resources    167\n",
       "Schooling                          163\n",
       "Population                           2\n",
       "GDP                                  2\n",
       "Percentage Expenditure              84\n",
       "BMI                                 34\n",
       "Infant Deaths                        2\n",
       "Under-Five Deaths                    2\n",
       "Hepatitis B                        562\n",
       "Measles                            162\n",
       "dtype: int64"
      ]
     },
     "execution_count": 592,
     "metadata": {},
     "output_type": "execute_result"
    }
   ],
   "source": [
    "df.isnull().sum()"
   ]
  },
  {
   "cell_type": "code",
   "execution_count": 593,
   "metadata": {},
   "outputs": [],
   "source": [
    "df.to_csv('new_LifeExp.csv')"
   ]
  },
  {
   "attachments": {},
   "cell_type": "markdown",
   "metadata": {},
   "source": [
    "## 1.3) A quick look at the distribution of numerical variables"
   ]
  },
  {
   "cell_type": "code",
   "execution_count": null,
   "metadata": {},
   "outputs": [],
   "source": [
    "df.isnull().sum()"
   ]
  },
  {
   "cell_type": "code",
   "execution_count": null,
   "metadata": {},
   "outputs": [],
   "source": [
    "df.describe()"
   ]
  },
  {
   "cell_type": "code",
   "execution_count": null,
   "metadata": {},
   "outputs": [],
   "source": [
    "plt.rc('font', size=14)\n",
    "plt.rc('axes', labelsize=14, titlesize=14)\n",
    "plt.rc('legend', fontsize=14)\n",
    "plt.rc('xtick', labelsize=10)\n",
    "plt.rc('ytick', labelsize=10)\n",
    "\n",
    "df.hist(bins=50, figsize=(12, 8))\n",
    "save_fig(\"new_attribute_histogram_plots\")  \n",
    "plt.show()"
   ]
  },
  {
   "attachments": {},
   "cell_type": "markdown",
   "metadata": {},
   "source": [
    "## 1.4) Sample a test set (remain unseen)"
   ]
  },
  {
   "attachments": {},
   "cell_type": "markdown",
   "metadata": {},
   "source": [
    "### 1.4.1) Method 1:  Randomly split the data using np.randodm.permutation"
   ]
  },
  {
   "cell_type": "code",
   "execution_count": null,
   "metadata": {},
   "outputs": [],
   "source": [
    "def shuffle_and_split_data(data, test_ratio):\n",
    "    shuffled_indices = np.random.permutation(len(data))\n",
    "    test_set_size = int(len(data) * test_ratio)\n",
    "    test_indices = shuffled_indices[:test_set_size]\n",
    "    train_indices = shuffled_indices[test_set_size:]\n",
    "    return data.iloc[train_indices], data.iloc[test_indices]"
   ]
  },
  {
   "cell_type": "code",
   "execution_count": null,
   "metadata": {},
   "outputs": [],
   "source": [
    "np.random.seed(123)\n",
    "\n",
    "train_set, test_set = shuffle_and_split_data(df, 0.2)\n",
    "\n",
    "print(len(train_set),len(test_set))"
   ]
  },
  {
   "cell_type": "code",
   "execution_count": null,
   "metadata": {},
   "outputs": [],
   "source": [
    "train_set.isnull().sum()"
   ]
  },
  {
   "cell_type": "code",
   "execution_count": null,
   "metadata": {},
   "outputs": [],
   "source": [
    "test_set.isnull().sum()"
   ]
  },
  {
   "attachments": {},
   "cell_type": "markdown",
   "metadata": {},
   "source": [
    "### 1.4.2) Method 2: Using hash() function"
   ]
  },
  {
   "cell_type": "code",
   "execution_count": null,
   "metadata": {},
   "outputs": [],
   "source": [
    "from zlib import crc32\n",
    "\n",
    "def is_id_in_test_set(identifier, test_ratio):\n",
    "    return crc32(np.int64(identifier)) < test_ratio * 2**32\n",
    "\n",
    "def split_data_with_id_hash(data, test_ratio, id_column):\n",
    "    ids = data[id_column]\n",
    "    in_test_set = ids.apply(lambda id_: is_id_in_test_set(id_, test_ratio))\n",
    "    return data.loc[~in_test_set], data.loc[in_test_set]"
   ]
  },
  {
   "cell_type": "code",
   "execution_count": null,
   "metadata": {},
   "outputs": [],
   "source": [
    "df_with_id = df.reset_index()  # adds an `index` column\n",
    "train_set, test_set = split_data_with_id_hash(df_with_id, 0.2, \"index\")"
   ]
  },
  {
   "cell_type": "code",
   "execution_count": null,
   "metadata": {},
   "outputs": [],
   "source": [
    "print(len(train_set),len(test_set))"
   ]
  },
  {
   "cell_type": "code",
   "execution_count": null,
   "metadata": {},
   "outputs": [],
   "source": [
    "train_set.isnull().sum()"
   ]
  },
  {
   "cell_type": "code",
   "execution_count": null,
   "metadata": {},
   "outputs": [],
   "source": [
    "test_set.isnull().sum()"
   ]
  },
  {
   "attachments": {},
   "cell_type": "markdown",
   "metadata": {},
   "source": [
    "### 1.4.3) Method 3: Using sklearn model selection"
   ]
  },
  {
   "cell_type": "code",
   "execution_count": null,
   "metadata": {},
   "outputs": [],
   "source": [
    "from sklearn.model_selection import train_test_split\n",
    "\n",
    "train_set, test_set = train_test_split(df, test_size=0.2, random_state=123)"
   ]
  },
  {
   "cell_type": "code",
   "execution_count": null,
   "metadata": {},
   "outputs": [],
   "source": [
    "print(len(train_set),len(test_set))"
   ]
  },
  {
   "cell_type": "code",
   "execution_count": null,
   "metadata": {},
   "outputs": [],
   "source": [
    "train_set.isnull().sum()"
   ]
  },
  {
   "cell_type": "code",
   "execution_count": null,
   "metadata": {},
   "outputs": [],
   "source": [
    "test_set.isnull().sum()"
   ]
  },
  {
   "cell_type": "markdown",
   "metadata": {},
   "source": []
  },
  {
   "attachments": {},
   "cell_type": "markdown",
   "metadata": {},
   "source": [
    "# 2) Data Exploration\n",
    "\n",
    "In this step, we use panda profiling to explore the following:\n",
    "- Descriptive Statistics\n",
    "- Missing Data (%)\n",
    "- Duplicates (%)\n",
    "- Correlation\n"
   ]
  },
  {
   "cell_type": "code",
   "execution_count": null,
   "metadata": {},
   "outputs": [],
   "source": [
    "le = train_set.copy()"
   ]
  },
  {
   "attachments": {},
   "cell_type": "markdown",
   "metadata": {},
   "source": [
    "## 2.1) Pandas Profiling\n",
    "\n",
    "Pandas Profiling generates a global deatiled report about the dataset, including the number of records, the number of features, overall missingness and duplicates. It also includes descriptive statistics for each individual variables and correlation statistics between the variables. Refer to 'output.html' to see the report."
   ]
  },
  {
   "cell_type": "code",
   "execution_count": null,
   "metadata": {},
   "outputs": [],
   "source": [
    "import pandas_profiling\n",
    "\n",
    "#le.profile_report(style = {'full_width':True})\n",
    "#profile = le.profile_report()\n",
    "#rejected_varaibles = profile.get_rejected_variables(threshold=0.9)\n",
    "\n",
    "profile = le.profile_report(title='Pandas Profiling Report')\n",
    "#profile.to_widgets()\n",
    "profile.to_file(\"output.html\")"
   ]
  },
  {
   "attachments": {},
   "cell_type": "markdown",
   "metadata": {},
   "source": [
    "### 2.2) Correlation HeatMap"
   ]
  },
  {
   "cell_type": "code",
   "execution_count": null,
   "metadata": {},
   "outputs": [],
   "source": [
    "corr_matrix = le.corr()"
   ]
  },
  {
   "cell_type": "code",
   "execution_count": null,
   "metadata": {},
   "outputs": [],
   "source": [
    "corr_matrix['Life Expectancy'].sort_values(ascending = False)"
   ]
  },
  {
   "cell_type": "code",
   "execution_count": null,
   "metadata": {},
   "outputs": [],
   "source": [
    "# check if there is any collinearity between variables\n",
    "plt.figure(figsize=(26,6))\n",
    "heatmap = sns.heatmap(le.corr(), vmin=-1, vmax=1, annot=True, cmap='BrBG')\n",
    "heatmap.set_title('Correlation Heatmap', fontdict={'fontsize':18}, pad=12)\n",
    "\n",
    "path = IMAGES_PATH / 'heatmap.png'\n",
    "plt.savefig(path, dpi=300, bbox_inches='tight')\n",
    "    "
   ]
  },
  {
   "attachments": {},
   "cell_type": "markdown",
   "metadata": {},
   "source": [
    "To further explore the relationship between LifeExpectancy and each independent variable, certain data cleaning needs to be done."
   ]
  },
  {
   "attachments": {},
   "cell_type": "markdown",
   "metadata": {},
   "source": [
    "# 3) Data Cleaning\n",
    "\n",
    "1. Data Correction\n",
    "2. Dealing with Missing data\n",
    "2. Outlier Detection\n",
    "3. Handling Multi-Conllinearity\n",
    "4. Data Preprocessing\n",
    "5. Feature Selection\n",
    "6. Feature engineering\n",
    "7. Feature Scaling\n",
    "8. Clustering\n",
    "9. Imbalanced data"
   ]
  },
  {
   "attachments": {},
   "cell_type": "markdown",
   "metadata": {},
   "source": [
    "## 3.1) Data Correction\n",
    "\n",
    "Panda profiling reports give us a good summary of missing values for each variable. \n",
    "\n",
    "However, there are also certain features contain a significant amount of zeros (i.e. Infant Deaths, Percentage Expenditure, Measles, and Under-Five-Deaths). And certain features contain values that does not make sense (i.e., population < 50)\n",
    "\n",
    "We need to look into that to ensure if these data are valid.\n"
   ]
  },
  {
   "attachments": {},
   "cell_type": "markdown",
   "metadata": {},
   "source": [
    "### 3.1.1) Analyze Variables with many zeros\n",
    "\n",
    "- Percentage Expenditure: 20.4% \n",
    "- Measles: 34.1%,\n",
    "- Under-Five Deaths: 27.1% \n",
    "- Infant Deaths: 29.0%\n",
    "- Income Composition Of Resources: 4.7%\n",
    "- Schooling: 1.0%"
   ]
  },
  {
   "cell_type": "code",
   "execution_count": null,
   "metadata": {},
   "outputs": [],
   "source": [
    "plt.figure(figsize=(15,10))\n",
    "for i, col in enumerate(['Percentage Expenditure', 'Measles', 'Under-Five Deaths', \n",
    "                         'Infant Deaths','Income Composition Of Resources','Schooling'], start=1):\n",
    "    plt.subplot(2, 3, i)\n",
    "    df.boxplot(col)"
   ]
  },
  {
   "cell_type": "code",
   "execution_count": null,
   "metadata": {},
   "outputs": [],
   "source": [
    "#'Percentage Expenditure', 'Measles', 'Under-Five Deaths', \n",
    "#                         'Infant Deaths','Income Composition Of Resources','Schooling'\n",
    "\n",
    "le[['Country','Status','Year']][le['Measles'] == 0].sort_values(by = 'Year')"
   ]
  },
  {
   "attachments": {},
   "cell_type": "markdown",
   "metadata": {},
   "source": [
    "### 3.1.2) Correct invalid data"
   ]
  },
  {
   "cell_type": "code",
   "execution_count": null,
   "metadata": {},
   "outputs": [],
   "source": [
    "fig=px.line(le.sort_values(by='Year'),x='Year',y='Population',\n",
    "             animation_frame='Country',animation_group='Year',color='Country',\n",
    "             markers=True,template='plotly_dark',title='<b> Country wise Population over Years')\n",
    "fig.show()"
   ]
  },
  {
   "cell_type": "code",
   "execution_count": null,
   "metadata": {},
   "outputs": [],
   "source": [
    "fig=px.line(le.sort_values(by='Year'),x='Year',y='Percentage Expenditure',\n",
    "             animation_frame='Country',animation_group='Year',color='Country',\n",
    "             markers=True,template='plotly_dark',title='<b> Country wise Percentage Expenditure over Years')\n",
    "fig.show()"
   ]
  },
  {
   "cell_type": "code",
   "execution_count": null,
   "metadata": {},
   "outputs": [],
   "source": []
  },
  {
   "cell_type": "code",
   "execution_count": null,
   "metadata": {},
   "outputs": [],
   "source": []
  },
  {
   "cell_type": "code",
   "execution_count": null,
   "metadata": {},
   "outputs": [],
   "source": []
  },
  {
   "cell_type": "code",
   "execution_count": null,
   "metadata": {},
   "outputs": [],
   "source": []
  },
  {
   "cell_type": "code",
   "execution_count": null,
   "metadata": {},
   "outputs": [],
   "source": []
  },
  {
   "attachments": {},
   "cell_type": "markdown",
   "metadata": {},
   "source": [
    "## 3.1) Dealing with Missing Values\n",
    "\n",
    "We consider three options for handling the missing values.\n",
    "1. Drop the records that contain missing values\n",
    "2. Drop the columns that contain missing values\n",
    "3. Impute the missing values with mean/median/mode"
   ]
  },
  {
   "cell_type": "code",
   "execution_count": null,
   "metadata": {},
   "outputs": [],
   "source": [
    "# Identify percentage of null values in each column. (Can also be found in output.html)\n",
    "le.isnull().sum()*100/le.isnull().count()"
   ]
  },
  {
   "cell_type": "code",
   "execution_count": null,
   "metadata": {},
   "outputs": [],
   "source": [
    "null_rows_idx = le.isnull().any(axis=1)\n",
    "le.loc[null_rows_idx].head()"
   ]
  },
  {
   "cell_type": "code",
   "execution_count": null,
   "metadata": {},
   "outputs": [],
   "source": [
    "# Drop rows with missing value\n",
    "le_option1 = le.copy()\n",
    "le_option1.dropna(inplace=True)\n",
    "le_option1.loc[null_rows_idx].head()"
   ]
  },
  {
   "cell_type": "code",
   "execution_count": null,
   "metadata": {},
   "outputs": [],
   "source": [
    "# Drop columns withh missing value\n",
    "le_option2 = le.copy()\n",
    "le_option2.dropna(axis='columns',inplace=True)  # option 2\n",
    "le_option2.loc[null_rows_idx].head()"
   ]
  },
  {
   "cell_type": "code",
   "execution_count": null,
   "metadata": {},
   "outputs": [],
   "source": [
    "# Impute the missing values with statistical measures\n",
    "le_option3 = le.copy()\n",
    "le_option3.fillna(le_option3.mean(), inplace=True)  # or median() / mode()\n",
    "le_option3.loc[null_rows_idx].head()"
   ]
  },
  {
   "cell_type": "code",
   "execution_count": null,
   "metadata": {},
   "outputs": [],
   "source": []
  },
  {
   "cell_type": "code",
   "execution_count": null,
   "metadata": {},
   "outputs": [],
   "source": []
  },
  {
   "cell_type": "code",
   "execution_count": null,
   "metadata": {},
   "outputs": [],
   "source": []
  },
  {
   "attachments": {},
   "cell_type": "markdown",
   "metadata": {},
   "source": [
    "Population data retrieved from \n",
    "https://data.worldbank.org/indicator/SP.POP.TOTL?end=2015&start=2000"
   ]
  },
  {
   "attachments": {},
   "cell_type": "markdown",
   "metadata": {},
   "source": [
    "### 2.2.1) With Categorical Variables"
   ]
  },
  {
   "cell_type": "code",
   "execution_count": null,
   "metadata": {},
   "outputs": [],
   "source": [
    "# Life Expectancy w.r.t. Status\n",
    "plt.figure(figsize=(5,5))\n",
    "plt.bar(le.groupby('Status')['Status'].count().index, le.groupby('Status')['Life Expectancy'].mean() )\n",
    "plt.xlabel(\"Status\")\n",
    "plt.ylabel(\"Avg Life_Expectancy\")\n",
    "plt.title(\"Life Expectancy w.r.t. Status\")\n",
    "plt.show()"
   ]
  },
  {
   "cell_type": "code",
   "execution_count": null,
   "metadata": {},
   "outputs": [],
   "source": [
    "# Life Expectancy w.r.t. Country\n",
    "le.groupby('Country')['Life Expectancy'].mean().plot(kind=\"bar\", fontsize=3)\n",
    "plt.xlabel(\"Country\")\n",
    "plt.ylabel(\"Avg Life_Expectancy\")\n",
    "plt.title(\"Life Expectancy w.r.t. Country\")\n",
    "plt.show()"
   ]
  },
  {
   "cell_type": "code",
   "execution_count": null,
   "metadata": {},
   "outputs": [],
   "source": [
    "# Life Expectancy over Years\n",
    "avg_life_exp = le.groupby(le['Year'])['Life Expectancy'].mean()\n",
    "plt.plot(avg_life_exp)"
   ]
  },
  {
   "cell_type": "code",
   "execution_count": null,
   "metadata": {},
   "outputs": [],
   "source": []
  },
  {
   "attachments": {},
   "cell_type": "markdown",
   "metadata": {},
   "source": [
    "# 4) Modelling\n",
    "\n",
    "1. Training\n",
    "2. Cross-Validation\n",
    "3. Fine tuning\n",
    "4. Evaluate on test set"
   ]
  }
 ],
 "metadata": {
  "kernelspec": {
   "display_name": "Python 3",
   "language": "python",
   "name": "python3"
  },
  "language_info": {
   "codemirror_mode": {
    "name": "ipython",
    "version": 3
   },
   "file_extension": ".py",
   "mimetype": "text/x-python",
   "name": "python",
   "nbconvert_exporter": "python",
   "pygments_lexer": "ipython3",
   "version": "3.10.8"
  },
  "orig_nbformat": 4,
  "vscode": {
   "interpreter": {
    "hash": "eb8d3085d426e5e8dee3252ffbadecffc2a8c816985f9d79249a1de42c265c0a"
   }
  }
 },
 "nbformat": 4,
 "nbformat_minor": 2
}
